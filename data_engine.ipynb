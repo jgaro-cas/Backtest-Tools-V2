{
 "cells": [
  {
   "cell_type": "code",
   "execution_count": 3,
   "metadata": {},
   "outputs": [],
   "source": [
    "import sys\n",
    "sys.path.append('./')\n",
    "from utilities.data_manager import ExchangeDataManager\n",
    "import pandas as pd"
   ]
  },
  {
   "cell_type": "markdown",
   "metadata": {},
   "source": [
    "# Download Historical data into CSV in Database"
   ]
  },
  {
   "cell_type": "code",
   "execution_count": 4,
   "metadata": {},
   "outputs": [
    {
     "name": "stdout",
     "output_type": "stream",
     "text": [
      "\tRécupération pour la paire BTC/USDT en timeframe 1h sur l'exchange binance...\n"
     ]
    },
    {
     "data": {
      "application/vnd.jupyter.widget-view+json": {
       "model_id": "96ec1a1283924602a4479eed63c84d18",
       "version_major": 2,
       "version_minor": 0
      },
      "text/plain": [
       "  0%|          | 0/69 [00:00<?, ?it/s]"
      ]
     },
     "metadata": {},
     "output_type": "display_data"
    },
    {
     "name": "stdout",
     "output_type": "stream",
     "text": [
      "\u001b[H\u001b[J\tRécupération pour la paire ETH/USDT en timeframe 1h sur l'exchange binance...\n"
     ]
    },
    {
     "data": {
      "application/vnd.jupyter.widget-view+json": {
       "model_id": "0f1ca375bfff4b169c4669d861f793de",
       "version_major": 2,
       "version_minor": 0
      },
      "text/plain": [
       "  0%|          | 0/69 [00:00<?, ?it/s]"
      ]
     },
     "metadata": {},
     "output_type": "display_data"
    },
    {
     "name": "stdout",
     "output_type": "stream",
     "text": [
      "\u001b[H\u001b[J\tRécupération pour la paire NEAR/USDT en timeframe 1h sur l'exchange binance...\n"
     ]
    },
    {
     "data": {
      "application/vnd.jupyter.widget-view+json": {
       "model_id": "1658f29b895a489d8e0eed74870ffe9a",
       "version_major": 2,
       "version_minor": 0
      },
      "text/plain": [
       "  0%|          | 0/69 [00:00<?, ?it/s]"
      ]
     },
     "metadata": {},
     "output_type": "display_data"
    },
    {
     "name": "stdout",
     "output_type": "stream",
     "text": [
      "\u001b[H\u001b[J\tRécupération pour la paire TIA/USDT en timeframe 1h sur l'exchange binance...\n"
     ]
    },
    {
     "data": {
      "application/vnd.jupyter.widget-view+json": {
       "model_id": "11604a1921184f649e48f0ad4734e273",
       "version_major": 2,
       "version_minor": 0
      },
      "text/plain": [
       "  0%|          | 0/69 [00:00<?, ?it/s]"
      ]
     },
     "metadata": {},
     "output_type": "display_data"
    },
    {
     "name": "stdout",
     "output_type": "stream",
     "text": [
      "\u001b[H\u001b[J\tRécupération pour la paire EIGEN/USDT en timeframe 1h sur l'exchange binance...\n"
     ]
    },
    {
     "data": {
      "application/vnd.jupyter.widget-view+json": {
       "model_id": "f2e5757186d7419b8f8253d41e8e3147",
       "version_major": 2,
       "version_minor": 0
      },
      "text/plain": [
       "  0%|          | 0/69 [00:00<?, ?it/s]"
      ]
     },
     "metadata": {},
     "output_type": "display_data"
    },
    {
     "name": "stdout",
     "output_type": "stream",
     "text": [
      "\u001b[H\u001b[J\tRécupération pour la paire DOGE/USDT en timeframe 1h sur l'exchange binance...\n"
     ]
    },
    {
     "data": {
      "application/vnd.jupyter.widget-view+json": {
       "model_id": "839ab46fb7eb48c7a476e876400242da",
       "version_major": 2,
       "version_minor": 0
      },
      "text/plain": [
       "  0%|          | 0/69 [00:00<?, ?it/s]"
      ]
     },
     "metadata": {},
     "output_type": "display_data"
    },
    {
     "name": "stdout",
     "output_type": "stream",
     "text": [
      "\u001b[H\u001b[J\tRécupération pour la paire TAO/USDT en timeframe 1h sur l'exchange binance...\n"
     ]
    },
    {
     "data": {
      "application/vnd.jupyter.widget-view+json": {
       "model_id": "88f9092df74b487cbe69ab19e7519015",
       "version_major": 2,
       "version_minor": 0
      },
      "text/plain": [
       "  0%|          | 0/69 [00:00<?, ?it/s]"
      ]
     },
     "metadata": {},
     "output_type": "display_data"
    },
    {
     "name": "stdout",
     "output_type": "stream",
     "text": [
      "\u001b[H\u001b[J\tRécupération pour la paire TON/USDT en timeframe 1h sur l'exchange binance...\n"
     ]
    },
    {
     "data": {
      "application/vnd.jupyter.widget-view+json": {
       "model_id": "eea7e55c6497495f98e5ef351ccb0259",
       "version_major": 2,
       "version_minor": 0
      },
      "text/plain": [
       "  0%|          | 0/69 [00:00<?, ?it/s]"
      ]
     },
     "metadata": {},
     "output_type": "display_data"
    },
    {
     "name": "stdout",
     "output_type": "stream",
     "text": [
      "\u001b[H\u001b[J\tRécupération pour la paire BTC/USDT en timeframe 2h sur l'exchange binance...\n"
     ]
    },
    {
     "data": {
      "application/vnd.jupyter.widget-view+json": {
       "model_id": "0dc19712c5bc46d0bad5d45413de720a",
       "version_major": 2,
       "version_minor": 0
      },
      "text/plain": [
       "  0%|          | 0/35 [00:00<?, ?it/s]"
      ]
     },
     "metadata": {},
     "output_type": "display_data"
    },
    {
     "name": "stdout",
     "output_type": "stream",
     "text": [
      "\u001b[H\u001b[J\tRécupération pour la paire ETH/USDT en timeframe 2h sur l'exchange binance...\n"
     ]
    },
    {
     "data": {
      "application/vnd.jupyter.widget-view+json": {
       "model_id": "af1776aff23246e484565aeee294aa94",
       "version_major": 2,
       "version_minor": 0
      },
      "text/plain": [
       "  0%|          | 0/35 [00:00<?, ?it/s]"
      ]
     },
     "metadata": {},
     "output_type": "display_data"
    },
    {
     "name": "stdout",
     "output_type": "stream",
     "text": [
      "\u001b[H\u001b[J\tRécupération pour la paire NEAR/USDT en timeframe 2h sur l'exchange binance...\n"
     ]
    },
    {
     "data": {
      "application/vnd.jupyter.widget-view+json": {
       "model_id": "efc66bd1efd64b15abee59a48d56472e",
       "version_major": 2,
       "version_minor": 0
      },
      "text/plain": [
       "  0%|          | 0/35 [00:00<?, ?it/s]"
      ]
     },
     "metadata": {},
     "output_type": "display_data"
    },
    {
     "name": "stdout",
     "output_type": "stream",
     "text": [
      "\u001b[H\u001b[J\tRécupération pour la paire TIA/USDT en timeframe 2h sur l'exchange binance...\n"
     ]
    },
    {
     "data": {
      "application/vnd.jupyter.widget-view+json": {
       "model_id": "4e284c78a2674049ae03bbc5af3edbaa",
       "version_major": 2,
       "version_minor": 0
      },
      "text/plain": [
       "  0%|          | 0/35 [00:00<?, ?it/s]"
      ]
     },
     "metadata": {},
     "output_type": "display_data"
    },
    {
     "name": "stdout",
     "output_type": "stream",
     "text": [
      "\u001b[H\u001b[J\tRécupération pour la paire EIGEN/USDT en timeframe 2h sur l'exchange binance...\n"
     ]
    },
    {
     "data": {
      "application/vnd.jupyter.widget-view+json": {
       "model_id": "956d6855056a49f1bc5607ed13b667c0",
       "version_major": 2,
       "version_minor": 0
      },
      "text/plain": [
       "  0%|          | 0/35 [00:00<?, ?it/s]"
      ]
     },
     "metadata": {},
     "output_type": "display_data"
    },
    {
     "name": "stdout",
     "output_type": "stream",
     "text": [
      "\u001b[H\u001b[J\tRécupération pour la paire DOGE/USDT en timeframe 2h sur l'exchange binance...\n"
     ]
    },
    {
     "data": {
      "application/vnd.jupyter.widget-view+json": {
       "model_id": "74097c856e854ab48d605bfe1d02a780",
       "version_major": 2,
       "version_minor": 0
      },
      "text/plain": [
       "  0%|          | 0/35 [00:00<?, ?it/s]"
      ]
     },
     "metadata": {},
     "output_type": "display_data"
    },
    {
     "name": "stdout",
     "output_type": "stream",
     "text": [
      "\u001b[H\u001b[J\tRécupération pour la paire TAO/USDT en timeframe 2h sur l'exchange binance...\n"
     ]
    },
    {
     "data": {
      "application/vnd.jupyter.widget-view+json": {
       "model_id": "2081692253b0497f8710f97e1c9c9aca",
       "version_major": 2,
       "version_minor": 0
      },
      "text/plain": [
       "  0%|          | 0/35 [00:00<?, ?it/s]"
      ]
     },
     "metadata": {},
     "output_type": "display_data"
    },
    {
     "name": "stdout",
     "output_type": "stream",
     "text": [
      "\u001b[H\u001b[J\tRécupération pour la paire TON/USDT en timeframe 2h sur l'exchange binance...\n"
     ]
    },
    {
     "data": {
      "application/vnd.jupyter.widget-view+json": {
       "model_id": "1ae041567e0e484aa52dd7fc1b72835c",
       "version_major": 2,
       "version_minor": 0
      },
      "text/plain": [
       "  0%|          | 0/35 [00:00<?, ?it/s]"
      ]
     },
     "metadata": {},
     "output_type": "display_data"
    },
    {
     "name": "stdout",
     "output_type": "stream",
     "text": [
      "\u001b[H\u001b[J\tRécupération pour la paire BTC/USDT en timeframe 4h sur l'exchange binance...\n"
     ]
    },
    {
     "data": {
      "application/vnd.jupyter.widget-view+json": {
       "model_id": "96d09e85953241ef999caf8547779743",
       "version_major": 2,
       "version_minor": 0
      },
      "text/plain": [
       "  0%|          | 0/18 [00:00<?, ?it/s]"
      ]
     },
     "metadata": {},
     "output_type": "display_data"
    },
    {
     "name": "stdout",
     "output_type": "stream",
     "text": [
      "\u001b[H\u001b[J\tRécupération pour la paire ETH/USDT en timeframe 4h sur l'exchange binance...\n"
     ]
    },
    {
     "data": {
      "application/vnd.jupyter.widget-view+json": {
       "model_id": "c966161fce9747c390264c44e5d71421",
       "version_major": 2,
       "version_minor": 0
      },
      "text/plain": [
       "  0%|          | 0/18 [00:00<?, ?it/s]"
      ]
     },
     "metadata": {},
     "output_type": "display_data"
    },
    {
     "name": "stdout",
     "output_type": "stream",
     "text": [
      "\u001b[H\u001b[J\tRécupération pour la paire NEAR/USDT en timeframe 4h sur l'exchange binance...\n"
     ]
    },
    {
     "data": {
      "application/vnd.jupyter.widget-view+json": {
       "model_id": "a46b6d8a98f945a8b303f7adff22ede5",
       "version_major": 2,
       "version_minor": 0
      },
      "text/plain": [
       "  0%|          | 0/18 [00:00<?, ?it/s]"
      ]
     },
     "metadata": {},
     "output_type": "display_data"
    },
    {
     "name": "stdout",
     "output_type": "stream",
     "text": [
      "\u001b[H\u001b[J\tRécupération pour la paire TIA/USDT en timeframe 4h sur l'exchange binance...\n"
     ]
    },
    {
     "data": {
      "application/vnd.jupyter.widget-view+json": {
       "model_id": "ac73b7a2447641a89e0704e9c7ddc978",
       "version_major": 2,
       "version_minor": 0
      },
      "text/plain": [
       "  0%|          | 0/18 [00:00<?, ?it/s]"
      ]
     },
     "metadata": {},
     "output_type": "display_data"
    },
    {
     "name": "stdout",
     "output_type": "stream",
     "text": [
      "\u001b[H\u001b[J\tRécupération pour la paire EIGEN/USDT en timeframe 4h sur l'exchange binance...\n"
     ]
    },
    {
     "data": {
      "application/vnd.jupyter.widget-view+json": {
       "model_id": "1fc276981f9041018993332fc9663f63",
       "version_major": 2,
       "version_minor": 0
      },
      "text/plain": [
       "  0%|          | 0/18 [00:00<?, ?it/s]"
      ]
     },
     "metadata": {},
     "output_type": "display_data"
    },
    {
     "name": "stdout",
     "output_type": "stream",
     "text": [
      "\u001b[H\u001b[J\tRécupération pour la paire DOGE/USDT en timeframe 4h sur l'exchange binance...\n"
     ]
    },
    {
     "data": {
      "application/vnd.jupyter.widget-view+json": {
       "model_id": "4900c09e75404565ba660b1f2cf890cf",
       "version_major": 2,
       "version_minor": 0
      },
      "text/plain": [
       "  0%|          | 0/18 [00:00<?, ?it/s]"
      ]
     },
     "metadata": {},
     "output_type": "display_data"
    },
    {
     "name": "stdout",
     "output_type": "stream",
     "text": [
      "\u001b[H\u001b[J\tRécupération pour la paire TAO/USDT en timeframe 4h sur l'exchange binance...\n"
     ]
    },
    {
     "data": {
      "application/vnd.jupyter.widget-view+json": {
       "model_id": "eee3877750ef40479285f9bec91b593c",
       "version_major": 2,
       "version_minor": 0
      },
      "text/plain": [
       "  0%|          | 0/18 [00:00<?, ?it/s]"
      ]
     },
     "metadata": {},
     "output_type": "display_data"
    },
    {
     "name": "stdout",
     "output_type": "stream",
     "text": [
      "\u001b[H\u001b[J\tRécupération pour la paire TON/USDT en timeframe 4h sur l'exchange binance...\n"
     ]
    },
    {
     "data": {
      "application/vnd.jupyter.widget-view+json": {
       "model_id": "76bd4c31d5474263830678befcc74a91",
       "version_major": 2,
       "version_minor": 0
      },
      "text/plain": [
       "  0%|          | 0/18 [00:00<?, ?it/s]"
      ]
     },
     "metadata": {},
     "output_type": "display_data"
    },
    {
     "name": "stdout",
     "output_type": "stream",
     "text": [
      "\u001b[H\u001b[J"
     ]
    }
   ],
   "source": [
    "exchange_name = \"binance\"\n",
    "\n",
    "intervals = [\"1h\", \"2h\", \"4h\"]\n",
    "\n",
    "coin_to_dl = [\n",
    "    \"BTC/USDT\",\n",
    "    \"ETH/USDT\",\n",
    "    \"NEAR/USDT\",\n",
    "    \"TIA/USDT\",\n",
    "    \"EIGEN/USDT\",\n",
    "    \"DOGE/USDT\",\n",
    "    \"TAO/USDT\",\n",
    "    \"TON/USDT\",\n",
    "]\n",
    "\n",
    "exchange = ExchangeDataManager(\n",
    "    exchange_name=exchange_name, path_download=\"./database/exchanges\"\n",
    ")\n",
    "\n",
    "await exchange.download_data(\n",
    "    coins=coin_to_dl,\n",
    "    intervals=intervals,\n",
    ")"
   ]
  },
  {
   "cell_type": "markdown",
   "metadata": {},
   "source": [
    "# Get Historical Data From Database"
   ]
  },
  {
   "cell_type": "code",
   "execution_count": 5,
   "metadata": {},
   "outputs": [
    {
     "data": {
      "text/html": [
       "<div>\n",
       "<style scoped>\n",
       "    .dataframe tbody tr th:only-of-type {\n",
       "        vertical-align: middle;\n",
       "    }\n",
       "\n",
       "    .dataframe tbody tr th {\n",
       "        vertical-align: top;\n",
       "    }\n",
       "\n",
       "    .dataframe thead th {\n",
       "        text-align: right;\n",
       "    }\n",
       "</style>\n",
       "<table border=\"1\" class=\"dataframe\">\n",
       "  <thead>\n",
       "    <tr style=\"text-align: right;\">\n",
       "      <th></th>\n",
       "      <th>open</th>\n",
       "      <th>high</th>\n",
       "      <th>low</th>\n",
       "      <th>close</th>\n",
       "      <th>volume</th>\n",
       "    </tr>\n",
       "    <tr>\n",
       "      <th>date</th>\n",
       "      <th></th>\n",
       "      <th></th>\n",
       "      <th></th>\n",
       "      <th></th>\n",
       "      <th></th>\n",
       "    </tr>\n",
       "  </thead>\n",
       "  <tbody>\n",
       "    <tr>\n",
       "      <th>2017-08-17 04:00:00</th>\n",
       "      <td>4261.48</td>\n",
       "      <td>4313.62</td>\n",
       "      <td>4261.32</td>\n",
       "      <td>4308.83</td>\n",
       "      <td>47.181009</td>\n",
       "    </tr>\n",
       "    <tr>\n",
       "      <th>2017-08-17 05:00:00</th>\n",
       "      <td>4308.83</td>\n",
       "      <td>4328.69</td>\n",
       "      <td>4291.37</td>\n",
       "      <td>4315.32</td>\n",
       "      <td>23.234916</td>\n",
       "    </tr>\n",
       "    <tr>\n",
       "      <th>2017-08-17 06:00:00</th>\n",
       "      <td>4330.29</td>\n",
       "      <td>4345.45</td>\n",
       "      <td>4309.37</td>\n",
       "      <td>4324.35</td>\n",
       "      <td>7.229691</td>\n",
       "    </tr>\n",
       "    <tr>\n",
       "      <th>2017-08-17 07:00:00</th>\n",
       "      <td>4316.62</td>\n",
       "      <td>4349.99</td>\n",
       "      <td>4287.41</td>\n",
       "      <td>4349.99</td>\n",
       "      <td>4.443249</td>\n",
       "    </tr>\n",
       "    <tr>\n",
       "      <th>2017-08-17 08:00:00</th>\n",
       "      <td>4333.32</td>\n",
       "      <td>4377.85</td>\n",
       "      <td>4333.32</td>\n",
       "      <td>4360.69</td>\n",
       "      <td>0.972807</td>\n",
       "    </tr>\n",
       "    <tr>\n",
       "      <th>...</th>\n",
       "      <td>...</td>\n",
       "      <td>...</td>\n",
       "      <td>...</td>\n",
       "      <td>...</td>\n",
       "      <td>...</td>\n",
       "    </tr>\n",
       "    <tr>\n",
       "      <th>2024-11-11 10:00:00</th>\n",
       "      <td>81695.34</td>\n",
       "      <td>82380.94</td>\n",
       "      <td>81668.73</td>\n",
       "      <td>81984.19</td>\n",
       "      <td>3031.716611</td>\n",
       "    </tr>\n",
       "    <tr>\n",
       "      <th>2024-11-11 11:00:00</th>\n",
       "      <td>81984.19</td>\n",
       "      <td>82244.67</td>\n",
       "      <td>81842.01</td>\n",
       "      <td>82134.00</td>\n",
       "      <td>1487.641110</td>\n",
       "    </tr>\n",
       "    <tr>\n",
       "      <th>2024-11-11 12:00:00</th>\n",
       "      <td>82133.99</td>\n",
       "      <td>82471.20</td>\n",
       "      <td>81719.21</td>\n",
       "      <td>82168.91</td>\n",
       "      <td>2599.322750</td>\n",
       "    </tr>\n",
       "    <tr>\n",
       "      <th>2024-11-11 13:00:00</th>\n",
       "      <td>82168.92</td>\n",
       "      <td>82222.13</td>\n",
       "      <td>81460.19</td>\n",
       "      <td>81835.74</td>\n",
       "      <td>2377.535150</td>\n",
       "    </tr>\n",
       "    <tr>\n",
       "      <th>2024-11-11 14:00:00</th>\n",
       "      <td>81835.73</td>\n",
       "      <td>82580.00</td>\n",
       "      <td>81500.01</td>\n",
       "      <td>82484.90</td>\n",
       "      <td>4581.230650</td>\n",
       "    </tr>\n",
       "  </tbody>\n",
       "</table>\n",
       "<p>63315 rows × 5 columns</p>\n",
       "</div>"
      ],
      "text/plain": [
       "                         open      high       low     close       volume\n",
       "date                                                                    \n",
       "2017-08-17 04:00:00   4261.48   4313.62   4261.32   4308.83    47.181009\n",
       "2017-08-17 05:00:00   4308.83   4328.69   4291.37   4315.32    23.234916\n",
       "2017-08-17 06:00:00   4330.29   4345.45   4309.37   4324.35     7.229691\n",
       "2017-08-17 07:00:00   4316.62   4349.99   4287.41   4349.99     4.443249\n",
       "2017-08-17 08:00:00   4333.32   4377.85   4333.32   4360.69     0.972807\n",
       "...                       ...       ...       ...       ...          ...\n",
       "2024-11-11 10:00:00  81695.34  82380.94  81668.73  81984.19  3031.716611\n",
       "2024-11-11 11:00:00  81984.19  82244.67  81842.01  82134.00  1487.641110\n",
       "2024-11-11 12:00:00  82133.99  82471.20  81719.21  82168.91  2599.322750\n",
       "2024-11-11 13:00:00  82168.92  82222.13  81460.19  81835.74  2377.535150\n",
       "2024-11-11 14:00:00  81835.73  82580.00  81500.01  82484.90  4581.230650\n",
       "\n",
       "[63315 rows x 5 columns]"
      ]
     },
     "execution_count": 5,
     "metadata": {},
     "output_type": "execute_result"
    }
   ],
   "source": [
    "exchange_name = \"binance\"\n",
    "\n",
    "exchange = ExchangeDataManager(\n",
    "    exchange_name=exchange_name, \n",
    "    path_download=\"./database/exchanges\"\n",
    ")\n",
    "\n",
    "df = exchange.load_data(\n",
    "    coin=\"BTC/USDT\", \n",
    "    interval=\"1h\"\n",
    ")\n",
    "\n",
    "df"
   ]
  },
  {
   "cell_type": "code",
   "execution_count": 6,
   "metadata": {},
   "outputs": [
    {
     "data": {
      "text/html": [
       "<div>\n",
       "<style scoped>\n",
       "    .dataframe tbody tr th:only-of-type {\n",
       "        vertical-align: middle;\n",
       "    }\n",
       "\n",
       "    .dataframe tbody tr th {\n",
       "        vertical-align: top;\n",
       "    }\n",
       "\n",
       "    .dataframe thead th {\n",
       "        text-align: right;\n",
       "    }\n",
       "</style>\n",
       "<table border=\"1\" class=\"dataframe\">\n",
       "  <thead>\n",
       "    <tr style=\"text-align: right;\">\n",
       "      <th></th>\n",
       "      <th>exchange</th>\n",
       "      <th>timeframe</th>\n",
       "      <th>pair</th>\n",
       "      <th>occurences</th>\n",
       "      <th>start_date</th>\n",
       "      <th>end_date</th>\n",
       "    </tr>\n",
       "  </thead>\n",
       "  <tbody>\n",
       "    <tr>\n",
       "      <th>0</th>\n",
       "      <td>binance</td>\n",
       "      <td>1h</td>\n",
       "      <td>BTC-USDT</td>\n",
       "      <td>63316</td>\n",
       "      <td>2017-08-17 06:00:00</td>\n",
       "      <td>2024-11-11 16:00:00</td>\n",
       "    </tr>\n",
       "    <tr>\n",
       "      <th>1</th>\n",
       "      <td>binance</td>\n",
       "      <td>1h</td>\n",
       "      <td>DOGE-USDT</td>\n",
       "      <td>46904</td>\n",
       "      <td>2019-07-05 14:00:00</td>\n",
       "      <td>2024-11-11 16:00:00</td>\n",
       "    </tr>\n",
       "    <tr>\n",
       "      <th>2</th>\n",
       "      <td>binance</td>\n",
       "      <td>1h</td>\n",
       "      <td>EIGEN-USDT</td>\n",
       "      <td>995</td>\n",
       "      <td>2024-10-01 07:00:00</td>\n",
       "      <td>2024-11-11 16:00:00</td>\n",
       "    </tr>\n",
       "    <tr>\n",
       "      <th>3</th>\n",
       "      <td>binance</td>\n",
       "      <td>1h</td>\n",
       "      <td>ETH-USDT</td>\n",
       "      <td>63316</td>\n",
       "      <td>2017-08-17 06:00:00</td>\n",
       "      <td>2024-11-11 16:00:00</td>\n",
       "    </tr>\n",
       "    <tr>\n",
       "      <th>4</th>\n",
       "      <td>binance</td>\n",
       "      <td>1h</td>\n",
       "      <td>NEAR-USDT</td>\n",
       "      <td>35727</td>\n",
       "      <td>2020-10-14 07:00:00</td>\n",
       "      <td>2024-11-11 16:00:00</td>\n",
       "    </tr>\n",
       "    <tr>\n",
       "      <th>5</th>\n",
       "      <td>binance</td>\n",
       "      <td>1h</td>\n",
       "      <td>TAO-USDT</td>\n",
       "      <td>5140</td>\n",
       "      <td>2024-04-11 14:00:00</td>\n",
       "      <td>2024-11-11 16:00:00</td>\n",
       "    </tr>\n",
       "    <tr>\n",
       "      <th>6</th>\n",
       "      <td>binance</td>\n",
       "      <td>1h</td>\n",
       "      <td>TIA-USDT</td>\n",
       "      <td>9048</td>\n",
       "      <td>2023-10-31 17:00:00</td>\n",
       "      <td>2024-11-11 16:00:00</td>\n",
       "    </tr>\n",
       "    <tr>\n",
       "      <th>7</th>\n",
       "      <td>binance</td>\n",
       "      <td>1h</td>\n",
       "      <td>TON-USDT</td>\n",
       "      <td>2286</td>\n",
       "      <td>2024-08-08 12:00:00</td>\n",
       "      <td>2024-11-11 16:00:00</td>\n",
       "    </tr>\n",
       "    <tr>\n",
       "      <th>8</th>\n",
       "      <td>binance</td>\n",
       "      <td>2h</td>\n",
       "      <td>BTC-USDT</td>\n",
       "      <td>31669</td>\n",
       "      <td>2017-08-17 06:00:00</td>\n",
       "      <td>2024-11-11 15:00:00</td>\n",
       "    </tr>\n",
       "    <tr>\n",
       "      <th>9</th>\n",
       "      <td>binance</td>\n",
       "      <td>2h</td>\n",
       "      <td>DOGE-USDT</td>\n",
       "      <td>23458</td>\n",
       "      <td>2019-07-05 14:00:00</td>\n",
       "      <td>2024-11-11 15:00:00</td>\n",
       "    </tr>\n",
       "    <tr>\n",
       "      <th>10</th>\n",
       "      <td>binance</td>\n",
       "      <td>2h</td>\n",
       "      <td>EIGEN-USDT</td>\n",
       "      <td>498</td>\n",
       "      <td>2024-10-01 06:00:00</td>\n",
       "      <td>2024-11-11 15:00:00</td>\n",
       "    </tr>\n",
       "    <tr>\n",
       "      <th>11</th>\n",
       "      <td>binance</td>\n",
       "      <td>2h</td>\n",
       "      <td>ETH-USDT</td>\n",
       "      <td>31669</td>\n",
       "      <td>2017-08-17 06:00:00</td>\n",
       "      <td>2024-11-11 15:00:00</td>\n",
       "    </tr>\n",
       "    <tr>\n",
       "      <th>12</th>\n",
       "      <td>binance</td>\n",
       "      <td>2h</td>\n",
       "      <td>NEAR-USDT</td>\n",
       "      <td>17868</td>\n",
       "      <td>2020-10-14 06:00:00</td>\n",
       "      <td>2024-11-11 15:00:00</td>\n",
       "    </tr>\n",
       "    <tr>\n",
       "      <th>13</th>\n",
       "      <td>binance</td>\n",
       "      <td>2h</td>\n",
       "      <td>TAO-USDT</td>\n",
       "      <td>2570</td>\n",
       "      <td>2024-04-11 14:00:00</td>\n",
       "      <td>2024-11-11 15:00:00</td>\n",
       "    </tr>\n",
       "    <tr>\n",
       "      <th>14</th>\n",
       "      <td>binance</td>\n",
       "      <td>2h</td>\n",
       "      <td>TIA-USDT</td>\n",
       "      <td>4524</td>\n",
       "      <td>2023-10-31 17:00:00</td>\n",
       "      <td>2024-11-11 15:00:00</td>\n",
       "    </tr>\n",
       "    <tr>\n",
       "      <th>15</th>\n",
       "      <td>binance</td>\n",
       "      <td>2h</td>\n",
       "      <td>TON-USDT</td>\n",
       "      <td>1143</td>\n",
       "      <td>2024-08-08 12:00:00</td>\n",
       "      <td>2024-11-11 15:00:00</td>\n",
       "    </tr>\n",
       "    <tr>\n",
       "      <th>16</th>\n",
       "      <td>binance</td>\n",
       "      <td>4h</td>\n",
       "      <td>BTC-USDT</td>\n",
       "      <td>15845</td>\n",
       "      <td>2017-08-17 06:00:00</td>\n",
       "      <td>2024-11-11 13:00:00</td>\n",
       "    </tr>\n",
       "    <tr>\n",
       "      <th>17</th>\n",
       "      <td>binance</td>\n",
       "      <td>4h</td>\n",
       "      <td>DOGE-USDT</td>\n",
       "      <td>11735</td>\n",
       "      <td>2019-07-05 14:00:00</td>\n",
       "      <td>2024-11-11 13:00:00</td>\n",
       "    </tr>\n",
       "    <tr>\n",
       "      <th>18</th>\n",
       "      <td>binance</td>\n",
       "      <td>4h</td>\n",
       "      <td>EIGEN-USDT</td>\n",
       "      <td>249</td>\n",
       "      <td>2024-10-01 06:00:00</td>\n",
       "      <td>2024-11-11 13:00:00</td>\n",
       "    </tr>\n",
       "    <tr>\n",
       "      <th>19</th>\n",
       "      <td>binance</td>\n",
       "      <td>4h</td>\n",
       "      <td>ETH-USDT</td>\n",
       "      <td>15845</td>\n",
       "      <td>2017-08-17 06:00:00</td>\n",
       "      <td>2024-11-11 13:00:00</td>\n",
       "    </tr>\n",
       "    <tr>\n",
       "      <th>20</th>\n",
       "      <td>binance</td>\n",
       "      <td>4h</td>\n",
       "      <td>NEAR-USDT</td>\n",
       "      <td>8937</td>\n",
       "      <td>2020-10-14 06:00:00</td>\n",
       "      <td>2024-11-11 13:00:00</td>\n",
       "    </tr>\n",
       "    <tr>\n",
       "      <th>21</th>\n",
       "      <td>binance</td>\n",
       "      <td>4h</td>\n",
       "      <td>TAO-USDT</td>\n",
       "      <td>1285</td>\n",
       "      <td>2024-04-11 14:00:00</td>\n",
       "      <td>2024-11-11 13:00:00</td>\n",
       "    </tr>\n",
       "    <tr>\n",
       "      <th>22</th>\n",
       "      <td>binance</td>\n",
       "      <td>4h</td>\n",
       "      <td>TIA-USDT</td>\n",
       "      <td>2262</td>\n",
       "      <td>2023-10-31 17:00:00</td>\n",
       "      <td>2024-11-11 13:00:00</td>\n",
       "    </tr>\n",
       "    <tr>\n",
       "      <th>23</th>\n",
       "      <td>binance</td>\n",
       "      <td>4h</td>\n",
       "      <td>TON-USDT</td>\n",
       "      <td>572</td>\n",
       "      <td>2024-08-08 10:00:00</td>\n",
       "      <td>2024-11-11 13:00:00</td>\n",
       "    </tr>\n",
       "  </tbody>\n",
       "</table>\n",
       "</div>"
      ],
      "text/plain": [
       "   exchange timeframe        pair  occurences           start_date  \\\n",
       "0   binance        1h    BTC-USDT       63316  2017-08-17 06:00:00   \n",
       "1   binance        1h   DOGE-USDT       46904  2019-07-05 14:00:00   \n",
       "2   binance        1h  EIGEN-USDT         995  2024-10-01 07:00:00   \n",
       "3   binance        1h    ETH-USDT       63316  2017-08-17 06:00:00   \n",
       "4   binance        1h   NEAR-USDT       35727  2020-10-14 07:00:00   \n",
       "5   binance        1h    TAO-USDT        5140  2024-04-11 14:00:00   \n",
       "6   binance        1h    TIA-USDT        9048  2023-10-31 17:00:00   \n",
       "7   binance        1h    TON-USDT        2286  2024-08-08 12:00:00   \n",
       "8   binance        2h    BTC-USDT       31669  2017-08-17 06:00:00   \n",
       "9   binance        2h   DOGE-USDT       23458  2019-07-05 14:00:00   \n",
       "10  binance        2h  EIGEN-USDT         498  2024-10-01 06:00:00   \n",
       "11  binance        2h    ETH-USDT       31669  2017-08-17 06:00:00   \n",
       "12  binance        2h   NEAR-USDT       17868  2020-10-14 06:00:00   \n",
       "13  binance        2h    TAO-USDT        2570  2024-04-11 14:00:00   \n",
       "14  binance        2h    TIA-USDT        4524  2023-10-31 17:00:00   \n",
       "15  binance        2h    TON-USDT        1143  2024-08-08 12:00:00   \n",
       "16  binance        4h    BTC-USDT       15845  2017-08-17 06:00:00   \n",
       "17  binance        4h   DOGE-USDT       11735  2019-07-05 14:00:00   \n",
       "18  binance        4h  EIGEN-USDT         249  2024-10-01 06:00:00   \n",
       "19  binance        4h    ETH-USDT       15845  2017-08-17 06:00:00   \n",
       "20  binance        4h   NEAR-USDT        8937  2020-10-14 06:00:00   \n",
       "21  binance        4h    TAO-USDT        1285  2024-04-11 14:00:00   \n",
       "22  binance        4h    TIA-USDT        2262  2023-10-31 17:00:00   \n",
       "23  binance        4h    TON-USDT         572  2024-08-08 10:00:00   \n",
       "\n",
       "               end_date  \n",
       "0   2024-11-11 16:00:00  \n",
       "1   2024-11-11 16:00:00  \n",
       "2   2024-11-11 16:00:00  \n",
       "3   2024-11-11 16:00:00  \n",
       "4   2024-11-11 16:00:00  \n",
       "5   2024-11-11 16:00:00  \n",
       "6   2024-11-11 16:00:00  \n",
       "7   2024-11-11 16:00:00  \n",
       "8   2024-11-11 15:00:00  \n",
       "9   2024-11-11 15:00:00  \n",
       "10  2024-11-11 15:00:00  \n",
       "11  2024-11-11 15:00:00  \n",
       "12  2024-11-11 15:00:00  \n",
       "13  2024-11-11 15:00:00  \n",
       "14  2024-11-11 15:00:00  \n",
       "15  2024-11-11 15:00:00  \n",
       "16  2024-11-11 13:00:00  \n",
       "17  2024-11-11 13:00:00  \n",
       "18  2024-11-11 13:00:00  \n",
       "19  2024-11-11 13:00:00  \n",
       "20  2024-11-11 13:00:00  \n",
       "21  2024-11-11 13:00:00  \n",
       "22  2024-11-11 13:00:00  \n",
       "23  2024-11-11 13:00:00  "
      ]
     },
     "execution_count": 6,
     "metadata": {},
     "output_type": "execute_result"
    }
   ],
   "source": [
    "exchange.explore_data()"
   ]
  },
  {
   "cell_type": "code",
   "execution_count": null,
   "metadata": {},
   "outputs": [],
   "source": []
  }
 ],
 "metadata": {
  "kernelspec": {
   "display_name": ".venv",
   "language": "python",
   "name": "python3"
  },
  "language_info": {
   "codemirror_mode": {
    "name": "ipython",
    "version": 3
   },
   "file_extension": ".py",
   "mimetype": "text/x-python",
   "name": "python",
   "nbconvert_exporter": "python",
   "pygments_lexer": "ipython3",
   "version": "3.12.4"
  }
 },
 "nbformat": 4,
 "nbformat_minor": 2
}
