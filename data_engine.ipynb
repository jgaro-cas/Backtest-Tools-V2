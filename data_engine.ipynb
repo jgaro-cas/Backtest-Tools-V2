{
 "cells": [
  {
   "cell_type": "code",
   "execution_count": 2,
   "metadata": {},
   "outputs": [],
   "source": [
    "import sys\n",
    "sys.path.append('./')\n",
    "from utilities.data_manager import ExchangeDataManager\n",
    "import pandas as pd"
   ]
  },
  {
   "cell_type": "markdown",
   "metadata": {},
   "source": [
    "# Download Historical data into CSV in Database"
   ]
  },
  {
   "cell_type": "code",
   "execution_count": 3,
   "metadata": {},
   "outputs": [
    {
     "name": "stdout",
     "output_type": "stream",
     "text": [
      "\tRécupération pour la paire BTC/USDT en timeframe 1h sur l'exchange binance...\n"
     ]
    },
    {
     "data": {
      "application/vnd.jupyter.widget-view+json": {
       "model_id": "88e2b585624a4e9b9cddba1ca8b5bb36",
       "version_major": 2,
       "version_minor": 0
      },
      "text/plain": [
       "  0%|          | 0/69 [00:00<?, ?it/s]"
      ]
     },
     "metadata": {},
     "output_type": "display_data"
    },
    {
     "name": "stdout",
     "output_type": "stream",
     "text": [
      "\u001b[H\u001b[J\tRécupération pour la paire ETH/USDT en timeframe 1h sur l'exchange binance...\n"
     ]
    },
    {
     "data": {
      "application/vnd.jupyter.widget-view+json": {
       "model_id": "ed2dd3ccf9dd41ec8c7d33a735e6d2ae",
       "version_major": 2,
       "version_minor": 0
      },
      "text/plain": [
       "  0%|          | 0/69 [00:00<?, ?it/s]"
      ]
     },
     "metadata": {},
     "output_type": "display_data"
    },
    {
     "name": "stdout",
     "output_type": "stream",
     "text": [
      "\u001b[H\u001b[J\tRécupération pour la paire NEAR/USDT en timeframe 1h sur l'exchange binance...\n"
     ]
    },
    {
     "data": {
      "application/vnd.jupyter.widget-view+json": {
       "model_id": "d9279ba6addf4bb88caad5b42de30b3c",
       "version_major": 2,
       "version_minor": 0
      },
      "text/plain": [
       "  0%|          | 0/69 [00:00<?, ?it/s]"
      ]
     },
     "metadata": {},
     "output_type": "display_data"
    },
    {
     "name": "stdout",
     "output_type": "stream",
     "text": [
      "\u001b[H\u001b[J\tRécupération pour la paire TIA/USDT en timeframe 1h sur l'exchange binance...\n"
     ]
    },
    {
     "data": {
      "application/vnd.jupyter.widget-view+json": {
       "model_id": "9ace46f92d6741faa375ca1eeae91353",
       "version_major": 2,
       "version_minor": 0
      },
      "text/plain": [
       "  0%|          | 0/69 [00:00<?, ?it/s]"
      ]
     },
     "metadata": {},
     "output_type": "display_data"
    },
    {
     "name": "stdout",
     "output_type": "stream",
     "text": [
      "\u001b[H\u001b[J\tRécupération pour la paire EIGEN/USDT en timeframe 1h sur l'exchange binance...\n"
     ]
    },
    {
     "data": {
      "application/vnd.jupyter.widget-view+json": {
       "model_id": "9a9503f5ff0e42bbbbdbfc6c850b17df",
       "version_major": 2,
       "version_minor": 0
      },
      "text/plain": [
       "  0%|          | 0/69 [00:00<?, ?it/s]"
      ]
     },
     "metadata": {},
     "output_type": "display_data"
    },
    {
     "name": "stdout",
     "output_type": "stream",
     "text": [
      "\u001b[H\u001b[J\tRécupération pour la paire DOGE/USDT en timeframe 1h sur l'exchange binance...\n"
     ]
    },
    {
     "data": {
      "application/vnd.jupyter.widget-view+json": {
       "model_id": "3b2f6af841b1476e80803d60d9eae052",
       "version_major": 2,
       "version_minor": 0
      },
      "text/plain": [
       "  0%|          | 0/69 [00:00<?, ?it/s]"
      ]
     },
     "metadata": {},
     "output_type": "display_data"
    },
    {
     "name": "stdout",
     "output_type": "stream",
     "text": [
      "\u001b[H\u001b[J\tRécupération pour la paire TAO/USDT en timeframe 1h sur l'exchange binance...\n"
     ]
    },
    {
     "data": {
      "application/vnd.jupyter.widget-view+json": {
       "model_id": "8f6a960cf7f64eb386b4ee73e307165e",
       "version_major": 2,
       "version_minor": 0
      },
      "text/plain": [
       "  0%|          | 0/69 [00:00<?, ?it/s]"
      ]
     },
     "metadata": {},
     "output_type": "display_data"
    },
    {
     "name": "stdout",
     "output_type": "stream",
     "text": [
      "\u001b[H\u001b[J\tRécupération pour la paire TON/USDT en timeframe 1h sur l'exchange binance...\n"
     ]
    },
    {
     "data": {
      "application/vnd.jupyter.widget-view+json": {
       "model_id": "2e33047721fd495aaf334b0b82f84c33",
       "version_major": 2,
       "version_minor": 0
      },
      "text/plain": [
       "  0%|          | 0/69 [00:00<?, ?it/s]"
      ]
     },
     "metadata": {},
     "output_type": "display_data"
    },
    {
     "name": "stdout",
     "output_type": "stream",
     "text": [
      "\u001b[H\u001b[J\tRécupération pour la paire BTC/USDT en timeframe 2h sur l'exchange binance...\n"
     ]
    },
    {
     "data": {
      "application/vnd.jupyter.widget-view+json": {
       "model_id": "2fa0408cf71b46e988f0675ec9be41fb",
       "version_major": 2,
       "version_minor": 0
      },
      "text/plain": [
       "  0%|          | 0/35 [00:00<?, ?it/s]"
      ]
     },
     "metadata": {},
     "output_type": "display_data"
    },
    {
     "name": "stdout",
     "output_type": "stream",
     "text": [
      "\u001b[H\u001b[J\tRécupération pour la paire ETH/USDT en timeframe 2h sur l'exchange binance...\n"
     ]
    },
    {
     "data": {
      "application/vnd.jupyter.widget-view+json": {
       "model_id": "afa31c0f065743a788be5ebf388cf298",
       "version_major": 2,
       "version_minor": 0
      },
      "text/plain": [
       "  0%|          | 0/35 [00:00<?, ?it/s]"
      ]
     },
     "metadata": {},
     "output_type": "display_data"
    },
    {
     "name": "stdout",
     "output_type": "stream",
     "text": [
      "\u001b[H\u001b[J\tRécupération pour la paire NEAR/USDT en timeframe 2h sur l'exchange binance...\n"
     ]
    },
    {
     "data": {
      "application/vnd.jupyter.widget-view+json": {
       "model_id": "1a908a3b138642bd87d513faaa876759",
       "version_major": 2,
       "version_minor": 0
      },
      "text/plain": [
       "  0%|          | 0/35 [00:00<?, ?it/s]"
      ]
     },
     "metadata": {},
     "output_type": "display_data"
    },
    {
     "name": "stdout",
     "output_type": "stream",
     "text": [
      "\u001b[H\u001b[J\tRécupération pour la paire TIA/USDT en timeframe 2h sur l'exchange binance...\n"
     ]
    },
    {
     "data": {
      "application/vnd.jupyter.widget-view+json": {
       "model_id": "1dfd73f2af794435b70c82c2a1010fc1",
       "version_major": 2,
       "version_minor": 0
      },
      "text/plain": [
       "  0%|          | 0/35 [00:00<?, ?it/s]"
      ]
     },
     "metadata": {},
     "output_type": "display_data"
    },
    {
     "name": "stdout",
     "output_type": "stream",
     "text": [
      "\u001b[H\u001b[J\tRécupération pour la paire EIGEN/USDT en timeframe 2h sur l'exchange binance...\n"
     ]
    },
    {
     "data": {
      "application/vnd.jupyter.widget-view+json": {
       "model_id": "4536df5949f242e2acd1438a7d414785",
       "version_major": 2,
       "version_minor": 0
      },
      "text/plain": [
       "  0%|          | 0/35 [00:00<?, ?it/s]"
      ]
     },
     "metadata": {},
     "output_type": "display_data"
    },
    {
     "name": "stdout",
     "output_type": "stream",
     "text": [
      "\u001b[H\u001b[J\tRécupération pour la paire DOGE/USDT en timeframe 2h sur l'exchange binance...\n"
     ]
    },
    {
     "data": {
      "application/vnd.jupyter.widget-view+json": {
       "model_id": "c75aa55e46004e8f841c0c5240c745df",
       "version_major": 2,
       "version_minor": 0
      },
      "text/plain": [
       "  0%|          | 0/35 [00:00<?, ?it/s]"
      ]
     },
     "metadata": {},
     "output_type": "display_data"
    },
    {
     "name": "stdout",
     "output_type": "stream",
     "text": [
      "\u001b[H\u001b[J\tRécupération pour la paire TAO/USDT en timeframe 2h sur l'exchange binance...\n"
     ]
    },
    {
     "data": {
      "application/vnd.jupyter.widget-view+json": {
       "model_id": "96763205dc714017ba2cda1f45e868bd",
       "version_major": 2,
       "version_minor": 0
      },
      "text/plain": [
       "  0%|          | 0/35 [00:00<?, ?it/s]"
      ]
     },
     "metadata": {},
     "output_type": "display_data"
    },
    {
     "name": "stdout",
     "output_type": "stream",
     "text": [
      "\u001b[H\u001b[J\tRécupération pour la paire TON/USDT en timeframe 2h sur l'exchange binance...\n"
     ]
    },
    {
     "data": {
      "application/vnd.jupyter.widget-view+json": {
       "model_id": "f5736e958490473b9d9020ecd22932f6",
       "version_major": 2,
       "version_minor": 0
      },
      "text/plain": [
       "  0%|          | 0/35 [00:00<?, ?it/s]"
      ]
     },
     "metadata": {},
     "output_type": "display_data"
    },
    {
     "name": "stdout",
     "output_type": "stream",
     "text": [
      "\u001b[H\u001b[J\tRécupération pour la paire BTC/USDT en timeframe 4h sur l'exchange binance...\n"
     ]
    },
    {
     "data": {
      "application/vnd.jupyter.widget-view+json": {
       "model_id": "230cdb0838de44d58a7abb2cf34a9b10",
       "version_major": 2,
       "version_minor": 0
      },
      "text/plain": [
       "  0%|          | 0/18 [00:00<?, ?it/s]"
      ]
     },
     "metadata": {},
     "output_type": "display_data"
    },
    {
     "name": "stdout",
     "output_type": "stream",
     "text": [
      "\u001b[H\u001b[J\tRécupération pour la paire ETH/USDT en timeframe 4h sur l'exchange binance...\n"
     ]
    },
    {
     "data": {
      "application/vnd.jupyter.widget-view+json": {
       "model_id": "a27ccc2c890a4eb5bd2cd23f673902d2",
       "version_major": 2,
       "version_minor": 0
      },
      "text/plain": [
       "  0%|          | 0/18 [00:00<?, ?it/s]"
      ]
     },
     "metadata": {},
     "output_type": "display_data"
    },
    {
     "name": "stdout",
     "output_type": "stream",
     "text": [
      "\u001b[H\u001b[J\tRécupération pour la paire NEAR/USDT en timeframe 4h sur l'exchange binance...\n"
     ]
    },
    {
     "data": {
      "application/vnd.jupyter.widget-view+json": {
       "model_id": "e458244cf1934b988e508059ad3fcddc",
       "version_major": 2,
       "version_minor": 0
      },
      "text/plain": [
       "  0%|          | 0/18 [00:00<?, ?it/s]"
      ]
     },
     "metadata": {},
     "output_type": "display_data"
    },
    {
     "name": "stdout",
     "output_type": "stream",
     "text": [
      "\u001b[H\u001b[J\tRécupération pour la paire TIA/USDT en timeframe 4h sur l'exchange binance...\n"
     ]
    },
    {
     "data": {
      "application/vnd.jupyter.widget-view+json": {
       "model_id": "4e3842b04a1240e0b6044832789d570a",
       "version_major": 2,
       "version_minor": 0
      },
      "text/plain": [
       "  0%|          | 0/18 [00:00<?, ?it/s]"
      ]
     },
     "metadata": {},
     "output_type": "display_data"
    },
    {
     "name": "stdout",
     "output_type": "stream",
     "text": [
      "\u001b[H\u001b[J\tRécupération pour la paire EIGEN/USDT en timeframe 4h sur l'exchange binance...\n"
     ]
    },
    {
     "data": {
      "application/vnd.jupyter.widget-view+json": {
       "model_id": "fdde9c08fc8f42e7af9739e0c7172eec",
       "version_major": 2,
       "version_minor": 0
      },
      "text/plain": [
       "  0%|          | 0/18 [00:00<?, ?it/s]"
      ]
     },
     "metadata": {},
     "output_type": "display_data"
    },
    {
     "name": "stdout",
     "output_type": "stream",
     "text": [
      "\u001b[H\u001b[J\tRécupération pour la paire DOGE/USDT en timeframe 4h sur l'exchange binance...\n"
     ]
    },
    {
     "data": {
      "application/vnd.jupyter.widget-view+json": {
       "model_id": "b11f16acbcae4b339438515d4c80d771",
       "version_major": 2,
       "version_minor": 0
      },
      "text/plain": [
       "  0%|          | 0/18 [00:00<?, ?it/s]"
      ]
     },
     "metadata": {},
     "output_type": "display_data"
    },
    {
     "name": "stdout",
     "output_type": "stream",
     "text": [
      "\u001b[H\u001b[J\tRécupération pour la paire TAO/USDT en timeframe 4h sur l'exchange binance...\n"
     ]
    },
    {
     "data": {
      "application/vnd.jupyter.widget-view+json": {
       "model_id": "a7f6cba2a33c497e8670b97ce20531a9",
       "version_major": 2,
       "version_minor": 0
      },
      "text/plain": [
       "  0%|          | 0/18 [00:00<?, ?it/s]"
      ]
     },
     "metadata": {},
     "output_type": "display_data"
    },
    {
     "name": "stdout",
     "output_type": "stream",
     "text": [
      "\u001b[H\u001b[J\tRécupération pour la paire TON/USDT en timeframe 4h sur l'exchange binance...\n"
     ]
    },
    {
     "data": {
      "application/vnd.jupyter.widget-view+json": {
       "model_id": "ff63a125dfb74d9186a2b02bf624bf89",
       "version_major": 2,
       "version_minor": 0
      },
      "text/plain": [
       "  0%|          | 0/18 [00:00<?, ?it/s]"
      ]
     },
     "metadata": {},
     "output_type": "display_data"
    },
    {
     "name": "stdout",
     "output_type": "stream",
     "text": [
      "\u001b[H\u001b[J"
     ]
    }
   ],
   "source": [
    "exchange_name = \"binance\"\n",
    "\n",
    "intervals = [\"1h\", \"2h\", \"4h\"]\n",
    "\n",
    "coin_to_dl = [\n",
    "    \"BTC/USDT\",\n",
    "    \"ETH/USDT\",\n",
    "    \"NEAR/USDT\",\n",
    "    \"TIA/USDT\",\n",
    "    \"EIGEN/USDT\",\n",
    "    \"DOGE/USDT\",\n",
    "    \"TAO/USDT\",\n",
    "    \"TON/USDT\",\n",
    "]\n",
    "\n",
    "exchange = ExchangeDataManager(\n",
    "    exchange_name=exchange_name, path_download=\"./database/exchanges\"\n",
    ")\n",
    "\n",
    "await exchange.download_data(\n",
    "    coins=coin_to_dl,\n",
    "    intervals=intervals,\n",
    ")"
   ]
  },
  {
   "cell_type": "markdown",
   "metadata": {},
   "source": [
    "# Get Historical Data From Database"
   ]
  },
  {
   "cell_type": "code",
   "execution_count": 4,
   "metadata": {},
   "outputs": [
    {
     "data": {
      "text/html": [
       "<div>\n",
       "<style scoped>\n",
       "    .dataframe tbody tr th:only-of-type {\n",
       "        vertical-align: middle;\n",
       "    }\n",
       "\n",
       "    .dataframe tbody tr th {\n",
       "        vertical-align: top;\n",
       "    }\n",
       "\n",
       "    .dataframe thead th {\n",
       "        text-align: right;\n",
       "    }\n",
       "</style>\n",
       "<table border=\"1\" class=\"dataframe\">\n",
       "  <thead>\n",
       "    <tr style=\"text-align: right;\">\n",
       "      <th></th>\n",
       "      <th>open</th>\n",
       "      <th>high</th>\n",
       "      <th>low</th>\n",
       "      <th>close</th>\n",
       "      <th>volume</th>\n",
       "    </tr>\n",
       "    <tr>\n",
       "      <th>date</th>\n",
       "      <th></th>\n",
       "      <th></th>\n",
       "      <th></th>\n",
       "      <th></th>\n",
       "      <th></th>\n",
       "    </tr>\n",
       "  </thead>\n",
       "  <tbody>\n",
       "    <tr>\n",
       "      <th>2017-08-17 04:00:00</th>\n",
       "      <td>4261.48</td>\n",
       "      <td>4313.62</td>\n",
       "      <td>4261.32</td>\n",
       "      <td>4308.83</td>\n",
       "      <td>47.181009</td>\n",
       "    </tr>\n",
       "    <tr>\n",
       "      <th>2017-08-17 05:00:00</th>\n",
       "      <td>4308.83</td>\n",
       "      <td>4328.69</td>\n",
       "      <td>4291.37</td>\n",
       "      <td>4315.32</td>\n",
       "      <td>23.234916</td>\n",
       "    </tr>\n",
       "    <tr>\n",
       "      <th>2017-08-17 06:00:00</th>\n",
       "      <td>4330.29</td>\n",
       "      <td>4345.45</td>\n",
       "      <td>4309.37</td>\n",
       "      <td>4324.35</td>\n",
       "      <td>7.229691</td>\n",
       "    </tr>\n",
       "    <tr>\n",
       "      <th>2017-08-17 07:00:00</th>\n",
       "      <td>4316.62</td>\n",
       "      <td>4349.99</td>\n",
       "      <td>4287.41</td>\n",
       "      <td>4349.99</td>\n",
       "      <td>4.443249</td>\n",
       "    </tr>\n",
       "    <tr>\n",
       "      <th>2017-08-17 08:00:00</th>\n",
       "      <td>4333.32</td>\n",
       "      <td>4377.85</td>\n",
       "      <td>4333.32</td>\n",
       "      <td>4360.69</td>\n",
       "      <td>0.972807</td>\n",
       "    </tr>\n",
       "    <tr>\n",
       "      <th>...</th>\n",
       "      <td>...</td>\n",
       "      <td>...</td>\n",
       "      <td>...</td>\n",
       "      <td>...</td>\n",
       "      <td>...</td>\n",
       "    </tr>\n",
       "    <tr>\n",
       "      <th>2024-11-14 11:00:00</th>\n",
       "      <td>91102.99</td>\n",
       "      <td>91657.77</td>\n",
       "      <td>90472.00</td>\n",
       "      <td>91491.86</td>\n",
       "      <td>2287.832660</td>\n",
       "    </tr>\n",
       "    <tr>\n",
       "      <th>2024-11-14 12:00:00</th>\n",
       "      <td>91491.85</td>\n",
       "      <td>91599.99</td>\n",
       "      <td>90945.00</td>\n",
       "      <td>91243.17</td>\n",
       "      <td>1587.333830</td>\n",
       "    </tr>\n",
       "    <tr>\n",
       "      <th>2024-11-14 13:00:00</th>\n",
       "      <td>91243.17</td>\n",
       "      <td>91380.00</td>\n",
       "      <td>90559.65</td>\n",
       "      <td>90754.42</td>\n",
       "      <td>2037.913320</td>\n",
       "    </tr>\n",
       "    <tr>\n",
       "      <th>2024-11-14 14:00:00</th>\n",
       "      <td>90754.42</td>\n",
       "      <td>91790.00</td>\n",
       "      <td>88639.76</td>\n",
       "      <td>88720.03</td>\n",
       "      <td>5271.457610</td>\n",
       "    </tr>\n",
       "    <tr>\n",
       "      <th>2024-11-14 15:00:00</th>\n",
       "      <td>88720.03</td>\n",
       "      <td>89638.50</td>\n",
       "      <td>87829.57</td>\n",
       "      <td>87947.99</td>\n",
       "      <td>6221.338940</td>\n",
       "    </tr>\n",
       "  </tbody>\n",
       "</table>\n",
       "<p>63388 rows × 5 columns</p>\n",
       "</div>"
      ],
      "text/plain": [
       "                         open      high       low     close       volume\n",
       "date                                                                    \n",
       "2017-08-17 04:00:00   4261.48   4313.62   4261.32   4308.83    47.181009\n",
       "2017-08-17 05:00:00   4308.83   4328.69   4291.37   4315.32    23.234916\n",
       "2017-08-17 06:00:00   4330.29   4345.45   4309.37   4324.35     7.229691\n",
       "2017-08-17 07:00:00   4316.62   4349.99   4287.41   4349.99     4.443249\n",
       "2017-08-17 08:00:00   4333.32   4377.85   4333.32   4360.69     0.972807\n",
       "...                       ...       ...       ...       ...          ...\n",
       "2024-11-14 11:00:00  91102.99  91657.77  90472.00  91491.86  2287.832660\n",
       "2024-11-14 12:00:00  91491.85  91599.99  90945.00  91243.17  1587.333830\n",
       "2024-11-14 13:00:00  91243.17  91380.00  90559.65  90754.42  2037.913320\n",
       "2024-11-14 14:00:00  90754.42  91790.00  88639.76  88720.03  5271.457610\n",
       "2024-11-14 15:00:00  88720.03  89638.50  87829.57  87947.99  6221.338940\n",
       "\n",
       "[63388 rows x 5 columns]"
      ]
     },
     "execution_count": 4,
     "metadata": {},
     "output_type": "execute_result"
    }
   ],
   "source": [
    "exchange_name = \"binance\"\n",
    "\n",
    "exchange = ExchangeDataManager(\n",
    "    exchange_name=exchange_name, \n",
    "    path_download=\"./database/exchanges\"\n",
    ")\n",
    "\n",
    "df = exchange.load_data(\n",
    "    coin=\"BTC/USDT\", \n",
    "    interval=\"1h\"\n",
    ")\n",
    "\n",
    "df"
   ]
  },
  {
   "cell_type": "code",
   "execution_count": 5,
   "metadata": {},
   "outputs": [
    {
     "data": {
      "text/html": [
       "<div>\n",
       "<style scoped>\n",
       "    .dataframe tbody tr th:only-of-type {\n",
       "        vertical-align: middle;\n",
       "    }\n",
       "\n",
       "    .dataframe tbody tr th {\n",
       "        vertical-align: top;\n",
       "    }\n",
       "\n",
       "    .dataframe thead th {\n",
       "        text-align: right;\n",
       "    }\n",
       "</style>\n",
       "<table border=\"1\" class=\"dataframe\">\n",
       "  <thead>\n",
       "    <tr style=\"text-align: right;\">\n",
       "      <th></th>\n",
       "      <th>exchange</th>\n",
       "      <th>timeframe</th>\n",
       "      <th>pair</th>\n",
       "      <th>occurences</th>\n",
       "      <th>start_date</th>\n",
       "      <th>end_date</th>\n",
       "    </tr>\n",
       "  </thead>\n",
       "  <tbody>\n",
       "    <tr>\n",
       "      <th>0</th>\n",
       "      <td>binance</td>\n",
       "      <td>1h</td>\n",
       "      <td>BTC-USDT</td>\n",
       "      <td>63389</td>\n",
       "      <td>2017-08-17 06:00:00</td>\n",
       "      <td>2024-11-14 17:00:00</td>\n",
       "    </tr>\n",
       "    <tr>\n",
       "      <th>1</th>\n",
       "      <td>binance</td>\n",
       "      <td>1h</td>\n",
       "      <td>DOGE-USDT</td>\n",
       "      <td>46977</td>\n",
       "      <td>2019-07-05 14:00:00</td>\n",
       "      <td>2024-11-14 17:00:00</td>\n",
       "    </tr>\n",
       "    <tr>\n",
       "      <th>2</th>\n",
       "      <td>binance</td>\n",
       "      <td>1h</td>\n",
       "      <td>EIGEN-USDT</td>\n",
       "      <td>1068</td>\n",
       "      <td>2024-10-01 07:00:00</td>\n",
       "      <td>2024-11-14 17:00:00</td>\n",
       "    </tr>\n",
       "    <tr>\n",
       "      <th>3</th>\n",
       "      <td>binance</td>\n",
       "      <td>1h</td>\n",
       "      <td>ETH-USDT</td>\n",
       "      <td>63389</td>\n",
       "      <td>2017-08-17 06:00:00</td>\n",
       "      <td>2024-11-14 17:00:00</td>\n",
       "    </tr>\n",
       "    <tr>\n",
       "      <th>4</th>\n",
       "      <td>binance</td>\n",
       "      <td>1h</td>\n",
       "      <td>NEAR-USDT</td>\n",
       "      <td>35800</td>\n",
       "      <td>2020-10-14 07:00:00</td>\n",
       "      <td>2024-11-14 17:00:00</td>\n",
       "    </tr>\n",
       "    <tr>\n",
       "      <th>5</th>\n",
       "      <td>binance</td>\n",
       "      <td>1h</td>\n",
       "      <td>TAO-USDT</td>\n",
       "      <td>5213</td>\n",
       "      <td>2024-04-11 14:00:00</td>\n",
       "      <td>2024-11-14 17:00:00</td>\n",
       "    </tr>\n",
       "    <tr>\n",
       "      <th>6</th>\n",
       "      <td>binance</td>\n",
       "      <td>1h</td>\n",
       "      <td>TIA-USDT</td>\n",
       "      <td>9121</td>\n",
       "      <td>2023-10-31 17:00:00</td>\n",
       "      <td>2024-11-14 17:00:00</td>\n",
       "    </tr>\n",
       "    <tr>\n",
       "      <th>7</th>\n",
       "      <td>binance</td>\n",
       "      <td>1h</td>\n",
       "      <td>TON-USDT</td>\n",
       "      <td>2359</td>\n",
       "      <td>2024-08-08 12:00:00</td>\n",
       "      <td>2024-11-14 17:00:00</td>\n",
       "    </tr>\n",
       "    <tr>\n",
       "      <th>8</th>\n",
       "      <td>binance</td>\n",
       "      <td>2h</td>\n",
       "      <td>BTC-USDT</td>\n",
       "      <td>31706</td>\n",
       "      <td>2017-08-17 06:00:00</td>\n",
       "      <td>2024-11-14 17:00:00</td>\n",
       "    </tr>\n",
       "    <tr>\n",
       "      <th>9</th>\n",
       "      <td>binance</td>\n",
       "      <td>2h</td>\n",
       "      <td>DOGE-USDT</td>\n",
       "      <td>23495</td>\n",
       "      <td>2019-07-05 14:00:00</td>\n",
       "      <td>2024-11-14 17:00:00</td>\n",
       "    </tr>\n",
       "    <tr>\n",
       "      <th>10</th>\n",
       "      <td>binance</td>\n",
       "      <td>2h</td>\n",
       "      <td>EIGEN-USDT</td>\n",
       "      <td>535</td>\n",
       "      <td>2024-10-01 06:00:00</td>\n",
       "      <td>2024-11-14 17:00:00</td>\n",
       "    </tr>\n",
       "    <tr>\n",
       "      <th>11</th>\n",
       "      <td>binance</td>\n",
       "      <td>2h</td>\n",
       "      <td>ETH-USDT</td>\n",
       "      <td>31706</td>\n",
       "      <td>2017-08-17 06:00:00</td>\n",
       "      <td>2024-11-14 17:00:00</td>\n",
       "    </tr>\n",
       "    <tr>\n",
       "      <th>12</th>\n",
       "      <td>binance</td>\n",
       "      <td>2h</td>\n",
       "      <td>NEAR-USDT</td>\n",
       "      <td>17905</td>\n",
       "      <td>2020-10-14 06:00:00</td>\n",
       "      <td>2024-11-14 17:00:00</td>\n",
       "    </tr>\n",
       "    <tr>\n",
       "      <th>13</th>\n",
       "      <td>binance</td>\n",
       "      <td>2h</td>\n",
       "      <td>TAO-USDT</td>\n",
       "      <td>2607</td>\n",
       "      <td>2024-04-11 14:00:00</td>\n",
       "      <td>2024-11-14 17:00:00</td>\n",
       "    </tr>\n",
       "    <tr>\n",
       "      <th>14</th>\n",
       "      <td>binance</td>\n",
       "      <td>2h</td>\n",
       "      <td>TIA-USDT</td>\n",
       "      <td>4561</td>\n",
       "      <td>2023-10-31 17:00:00</td>\n",
       "      <td>2024-11-14 17:00:00</td>\n",
       "    </tr>\n",
       "    <tr>\n",
       "      <th>15</th>\n",
       "      <td>binance</td>\n",
       "      <td>2h</td>\n",
       "      <td>TON-USDT</td>\n",
       "      <td>1180</td>\n",
       "      <td>2024-08-08 12:00:00</td>\n",
       "      <td>2024-11-14 17:00:00</td>\n",
       "    </tr>\n",
       "    <tr>\n",
       "      <th>16</th>\n",
       "      <td>binance</td>\n",
       "      <td>4h</td>\n",
       "      <td>BTC-USDT</td>\n",
       "      <td>15864</td>\n",
       "      <td>2017-08-17 06:00:00</td>\n",
       "      <td>2024-11-14 17:00:00</td>\n",
       "    </tr>\n",
       "    <tr>\n",
       "      <th>17</th>\n",
       "      <td>binance</td>\n",
       "      <td>4h</td>\n",
       "      <td>DOGE-USDT</td>\n",
       "      <td>11754</td>\n",
       "      <td>2019-07-05 14:00:00</td>\n",
       "      <td>2024-11-14 17:00:00</td>\n",
       "    </tr>\n",
       "    <tr>\n",
       "      <th>18</th>\n",
       "      <td>binance</td>\n",
       "      <td>4h</td>\n",
       "      <td>EIGEN-USDT</td>\n",
       "      <td>268</td>\n",
       "      <td>2024-10-01 06:00:00</td>\n",
       "      <td>2024-11-14 17:00:00</td>\n",
       "    </tr>\n",
       "    <tr>\n",
       "      <th>19</th>\n",
       "      <td>binance</td>\n",
       "      <td>4h</td>\n",
       "      <td>ETH-USDT</td>\n",
       "      <td>15864</td>\n",
       "      <td>2017-08-17 06:00:00</td>\n",
       "      <td>2024-11-14 17:00:00</td>\n",
       "    </tr>\n",
       "    <tr>\n",
       "      <th>20</th>\n",
       "      <td>binance</td>\n",
       "      <td>4h</td>\n",
       "      <td>NEAR-USDT</td>\n",
       "      <td>8956</td>\n",
       "      <td>2020-10-14 06:00:00</td>\n",
       "      <td>2024-11-14 17:00:00</td>\n",
       "    </tr>\n",
       "    <tr>\n",
       "      <th>21</th>\n",
       "      <td>binance</td>\n",
       "      <td>4h</td>\n",
       "      <td>TAO-USDT</td>\n",
       "      <td>1304</td>\n",
       "      <td>2024-04-11 14:00:00</td>\n",
       "      <td>2024-11-14 17:00:00</td>\n",
       "    </tr>\n",
       "    <tr>\n",
       "      <th>22</th>\n",
       "      <td>binance</td>\n",
       "      <td>4h</td>\n",
       "      <td>TIA-USDT</td>\n",
       "      <td>2281</td>\n",
       "      <td>2023-10-31 17:00:00</td>\n",
       "      <td>2024-11-14 17:00:00</td>\n",
       "    </tr>\n",
       "    <tr>\n",
       "      <th>23</th>\n",
       "      <td>binance</td>\n",
       "      <td>4h</td>\n",
       "      <td>TON-USDT</td>\n",
       "      <td>591</td>\n",
       "      <td>2024-08-08 10:00:00</td>\n",
       "      <td>2024-11-14 17:00:00</td>\n",
       "    </tr>\n",
       "  </tbody>\n",
       "</table>\n",
       "</div>"
      ],
      "text/plain": [
       "   exchange timeframe        pair  occurences           start_date  \\\n",
       "0   binance        1h    BTC-USDT       63389  2017-08-17 06:00:00   \n",
       "1   binance        1h   DOGE-USDT       46977  2019-07-05 14:00:00   \n",
       "2   binance        1h  EIGEN-USDT        1068  2024-10-01 07:00:00   \n",
       "3   binance        1h    ETH-USDT       63389  2017-08-17 06:00:00   \n",
       "4   binance        1h   NEAR-USDT       35800  2020-10-14 07:00:00   \n",
       "5   binance        1h    TAO-USDT        5213  2024-04-11 14:00:00   \n",
       "6   binance        1h    TIA-USDT        9121  2023-10-31 17:00:00   \n",
       "7   binance        1h    TON-USDT        2359  2024-08-08 12:00:00   \n",
       "8   binance        2h    BTC-USDT       31706  2017-08-17 06:00:00   \n",
       "9   binance        2h   DOGE-USDT       23495  2019-07-05 14:00:00   \n",
       "10  binance        2h  EIGEN-USDT         535  2024-10-01 06:00:00   \n",
       "11  binance        2h    ETH-USDT       31706  2017-08-17 06:00:00   \n",
       "12  binance        2h   NEAR-USDT       17905  2020-10-14 06:00:00   \n",
       "13  binance        2h    TAO-USDT        2607  2024-04-11 14:00:00   \n",
       "14  binance        2h    TIA-USDT        4561  2023-10-31 17:00:00   \n",
       "15  binance        2h    TON-USDT        1180  2024-08-08 12:00:00   \n",
       "16  binance        4h    BTC-USDT       15864  2017-08-17 06:00:00   \n",
       "17  binance        4h   DOGE-USDT       11754  2019-07-05 14:00:00   \n",
       "18  binance        4h  EIGEN-USDT         268  2024-10-01 06:00:00   \n",
       "19  binance        4h    ETH-USDT       15864  2017-08-17 06:00:00   \n",
       "20  binance        4h   NEAR-USDT        8956  2020-10-14 06:00:00   \n",
       "21  binance        4h    TAO-USDT        1304  2024-04-11 14:00:00   \n",
       "22  binance        4h    TIA-USDT        2281  2023-10-31 17:00:00   \n",
       "23  binance        4h    TON-USDT         591  2024-08-08 10:00:00   \n",
       "\n",
       "               end_date  \n",
       "0   2024-11-14 17:00:00  \n",
       "1   2024-11-14 17:00:00  \n",
       "2   2024-11-14 17:00:00  \n",
       "3   2024-11-14 17:00:00  \n",
       "4   2024-11-14 17:00:00  \n",
       "5   2024-11-14 17:00:00  \n",
       "6   2024-11-14 17:00:00  \n",
       "7   2024-11-14 17:00:00  \n",
       "8   2024-11-14 17:00:00  \n",
       "9   2024-11-14 17:00:00  \n",
       "10  2024-11-14 17:00:00  \n",
       "11  2024-11-14 17:00:00  \n",
       "12  2024-11-14 17:00:00  \n",
       "13  2024-11-14 17:00:00  \n",
       "14  2024-11-14 17:00:00  \n",
       "15  2024-11-14 17:00:00  \n",
       "16  2024-11-14 17:00:00  \n",
       "17  2024-11-14 17:00:00  \n",
       "18  2024-11-14 17:00:00  \n",
       "19  2024-11-14 17:00:00  \n",
       "20  2024-11-14 17:00:00  \n",
       "21  2024-11-14 17:00:00  \n",
       "22  2024-11-14 17:00:00  \n",
       "23  2024-11-14 17:00:00  "
      ]
     },
     "execution_count": 5,
     "metadata": {},
     "output_type": "execute_result"
    }
   ],
   "source": [
    "exchange.explore_data()"
   ]
  },
  {
   "cell_type": "code",
   "execution_count": null,
   "metadata": {},
   "outputs": [],
   "source": []
  }
 ],
 "metadata": {
  "kernelspec": {
   "display_name": ".venv",
   "language": "python",
   "name": "python3"
  },
  "language_info": {
   "codemirror_mode": {
    "name": "ipython",
    "version": 3
   },
   "file_extension": ".py",
   "mimetype": "text/x-python",
   "name": "python",
   "nbconvert_exporter": "python",
   "pygments_lexer": "ipython3",
   "version": "3.11.0"
  }
 },
 "nbformat": 4,
 "nbformat_minor": 2
}
